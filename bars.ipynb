{
 "cells": [
  {
   "cell_type": "code",
   "execution_count": 91,
   "metadata": {},
   "outputs": [
    {
     "name": "stderr",
     "output_type": "stream",
     "text": [
      "<ipython-input-91-b23c6206ec66>:10: FutureWarning: Passing a negative integer is deprecated in version 1.0 and will not be supported in future version. Instead, use None to not limit the column width.\n",
      "  pd.set_option('display.max_colwidth', -1)\n"
     ]
    }
   ],
   "source": [
    "import numpy as np\n",
    "import pandas as pd\n",
    "import matplotlib.pyplot as plt\n",
    "import matplotlib.dates as mdates\n",
    "import datetime\n",
    "from data_api import query_date\n",
    "from decimal import *\n",
    "from dateutil import tz\n",
    "\n",
    "pd.set_option('display.max_colwidth', -1)\n",
    "\n",
    "start_time = Decimal(datetime.datetime(2020, 5, 26, 0, 0, 0).timestamp())\n",
    "end_time = Decimal(datetime.datetime.utcnow().timestamp())\n",
    "response = query_date('TSLA', start_time, end_time)\n",
    "data = pd.DataFrame.from_dict(response)"
   ]
  },
  {
   "cell_type": "code",
   "execution_count": 92,
   "metadata": {},
   "outputs": [],
   "source": [
    "to_zone = tz.gettz('America/New_York')\n",
    "time_offset = 14400 # 4 hours in seconds\n",
    "data['timestamp'] = data['timestamp'].apply(lambda x: (float(str(x))-time_offset)*1000)\n",
    "data['timestamp'] = pd.to_datetime(data['timestamp'], unit='ms')\n",
    "data = data.set_index('timestamp')\n",
    "data.index = pd.to_datetime(data_timeidx.index, unit='s')"
   ]
  },
  {
   "cell_type": "code",
   "execution_count": 100,
   "metadata": {},
   "outputs": [
    {
     "name": "stdout",
     "output_type": "stream",
     "text": [
      "finished parsing\n"
     ]
    }
   ],
   "source": [
    "def isolate_price_changes(data):\n",
    "    data = data.reset_index()\n",
    "    last_row = None\n",
    "    last_index = None\n",
    "    to_drop = []\n",
    "    for index, row in data.iterrows():\n",
    "        if index == 0:\n",
    "            last_row = row\n",
    "            last_index = index\n",
    "            continue\n",
    "        if last_row['last'] == row['last'] and last_row['last_size'] == row['last_size']:\n",
    "            to_drop.append(index)\n",
    "        last_row = row\n",
    "        last_index = index\n",
    "    data.drop(to_drop)\n",
    "    data = data.set_index('timestamp')\n",
    "    return data\n",
    "data = isolate_price_changes(data)"
   ]
  },
  {
   "cell_type": "code",
   "execution_count": 117,
   "metadata": {},
   "outputs": [],
   "source": [
    "def compute_normal_bar(df):\n",
    "    if len(df) == 0:\n",
    "        return\n",
    "\n",
    "    volume = 0\n",
    "    high = -1.0\n",
    "    low = 1000000.0\n",
    "    price_sum = 0\n",
    "    vwap = 0\n",
    "    open = df.head(1)['last']\n",
    "    close = df.tail(1)['last']\n",
    "    \n",
    "    for index, tick in df.iterrows():\n",
    "        price_sum += float(tick['last']) * float(tick['last_size'])\n",
    "        if float(tick['last']) < low:\n",
    "            low = float(tick['last'])\n",
    "        if float(tick['last']) > high:\n",
    "            high = float(tick['last'])\n",
    "        volume += int(tick['last_size']) * 100\n",
    "    if volume != 0:\n",
    "        vwap = float(price_sum) / float(volume)\n",
    "        bars = \"h: %.2f\" % high + \" l: %.2f\" % low + \" o: %.2f\" % float(open) + \" c: %.2f\" % float(close) + \" vwap: %.2f\" % vwap + \" v: \" + str(volume)\n",
    "    else:\n",
    "        bars = \"h: %.2f\" % high + \" l: %.2f\" % low + \" o: %.2f\" % float(open) + \" c: %.2f\" % float(close) + \" v: \" + str(volume)        \n",
    "    return bars"
   ]
  },
  {
   "cell_type": "code",
   "execution_count": 108,
   "metadata": {},
   "outputs": [
    {
     "name": "stdout",
     "output_type": "stream",
     "text": [
      "timestamp\n",
      "2020-06-25 03:00:00    h: 951.00 l: 951.00 o: 951.00 c: 951.00 vwap: 9.51 v: 800    \n",
      "2020-06-25 04:00:00    h: 968.79 l: 946.85 o: 950.00 c: 968.79 vwap: 9.58 v: 34700  \n",
      "2020-06-25 05:00:00    h: 968.79 l: 963.88 o: 968.79 c: 963.88 vwap: 9.67 v: 25200  \n",
      "2020-06-25 06:00:00    h: 968.44 l: 962.35 o: 963.88 c: 962.46 vwap: 9.65 v: 36000  \n",
      "2020-06-25 07:00:00    h: 967.00 l: 952.15 o: 965.00 c: 953.30 vwap: 9.60 v: 155000 \n",
      "2020-06-25 08:00:00    h: 964.00 l: 949.90 o: 962.98 c: 952.00 vwap: 9.53 v: 349500 \n",
      "2020-06-25 09:00:00    h: 959.90 l: 937.15 o: 952.00 c: 948.45 vwap: 9.47 v: 2700000\n",
      "2020-06-25 10:00:00    h: 967.79 l: 940.95 o: 948.32 c: 960.12 vwap: 9.56 v: 4400300\n",
      "2020-06-25 11:00:00    h: 966.60 l: 955.01 o: 960.12 c: 965.06 vwap: 9.61 v: 2792600\n",
      "2020-06-25 12:00:00    h: 975.47 l: 965.06 o: 965.06 c: 973.49 vwap: 9.72 v: 3140200\n",
      "2020-06-25 13:00:00    h: 975.20 l: 968.23 o: 973.49 c: 974.07 vwap: 9.73 v: 2366000\n",
      "2020-06-25 14:00:00    h: 975.65 l: 968.93 o: 974.07 c: 974.70 vwap: 9.73 v: 2379200\n",
      "2020-06-25 15:00:00    h: 985.91 l: 973.11 o: 974.60 c: 985.37 vwap: 9.79 v: 3290900\n",
      "2020-06-25 16:00:00    h: 986.50 l: 982.66 o: 985.37 c: 983.55 vwap: 9.86 v: 688900 \n",
      "2020-06-25 17:00:00    h: 990.00 l: 982.25 o: 983.55 c: 989.95 vwap: 9.85 v: 64800  \n",
      "2020-06-25 18:00:00    h: 992.80 l: 988.99 o: 989.95 c: 991.16 vwap: 9.91 v: 122800 \n",
      "2020-06-25 19:00:00    h: 992.00 l: 990.00 o: 991.16 c: 992.00 vwap: 9.91 v: 87400  \n",
      "2020-06-25 20:00:00    h: 992.00 l: 992.00 o: 992.00 c: 992.00 vwap: 9.92 v: 500    \n",
      "2020-06-25 21:00:00    None                                                         \n",
      "2020-06-25 22:00:00    None                                                         \n",
      "2020-06-25 23:00:00    None                                                         \n",
      "2020-06-26 00:00:00    h: 992.00 l: 992.00 o: 992.00 c: 992.00 vwap: 9.92 v: 200    \n",
      "2020-06-26 01:00:00    h: 992.00 l: 992.00 o: 992.00 c: 992.00 vwap: 9.92 v: 200    \n",
      "2020-06-26 02:00:00    None                                                         \n",
      "2020-06-26 03:00:00    None                                                         \n",
      "2020-06-26 04:00:00    h: 992.00 l: 982.38 o: 992.00 c: 982.38 vwap: 9.84 v: 24600  \n",
      "2020-06-26 05:00:00    h: 986.30 l: 982.38 o: 982.38 c: 986.30 vwap: 9.86 v: 54800  \n",
      "2020-06-26 06:00:00    h: 992.00 l: 986.30 o: 986.30 c: 992.00 vwap: 9.90 v: 57500  \n",
      "2020-06-26 07:00:00    h: 998.00 l: 992.00 o: 992.00 c: 994.22 vwap: 9.96 v: 191600 \n",
      "2020-06-26 08:00:00    h: 998.00 l: 985.88 o: 994.22 c: 986.50 vwap: 9.93 v: 152700 \n",
      "2020-06-26 09:00:00    h: 995.08 l: 976.40 o: 986.50 c: 983.37 vwap: 9.87 v: 2771000\n",
      "2020-06-26 10:00:00    h: 983.37 l: 961.90 o: 983.37 c: 966.71 vwap: 9.71 v: 4666200\n",
      "2020-06-26 11:00:00    h: 977.16 l: 966.14 o: 966.71 c: 973.45 vwap: 9.72 v: 3178900\n",
      "2020-06-26 12:00:00    h: 973.86 l: 964.75 o: 973.45 c: 968.95 vwap: 9.68 v: 2815000\n",
      "2020-06-26 13:00:00    h: 972.00 l: 965.10 o: 968.95 c: 965.82 vwap: 9.69 v: 1929600\n",
      "2020-06-26 14:00:00    h: 968.60 l: 960.11 o: 965.82 c: 963.77 vwap: 9.63 v: 2383300\n",
      "2020-06-26 15:00:00    h: 967.45 l: 954.87 o: 963.77 c: 960.65 vwap: 9.62 v: 2869100\n",
      "2020-06-26 16:00:00    h: 961.90 l: 959.60 o: 960.65 c: 960.50 vwap: 9.60 v: 147800 \n",
      "2020-06-26 17:00:00    h: 960.50 l: 958.50 o: 960.50 c: 959.00 vwap: 9.60 v: 27500  \n",
      "2020-06-26 18:00:00    h: 959.10 l: 958.01 o: 959.00 c: 959.00 vwap: 9.59 v: 41100  \n",
      "2020-06-26 19:00:00    h: 959.00 l: 955.00 o: 959.00 c: 955.90 vwap: 9.57 v: 48600  \n",
      "2020-06-26 20:00:00    h: 955.90 l: 955.90 o: 955.90 c: 955.90 vwap: 9.56 v: 1200   \n",
      "2020-06-26 21:00:00    None                                                         \n",
      "2020-06-26 22:00:00    None                                                         \n",
      "2020-06-26 23:00:00    None                                                         \n",
      "2020-06-27 00:00:00    None                                                         \n",
      "2020-06-27 01:00:00    h: 955.90 l: 955.90 o: 955.90 c: 955.90 vwap: 9.56 v: 600    \n",
      "dtype: object\n"
     ]
    }
   ],
   "source": [
    "#time bars\n",
    "data_time_groups = data.groupby(pd.Grouper(freq='60Min'))\n",
    "data_time_bars = data_time_groups.apply(compute_normal_bar)\n",
    "print(data_time_bars)"
   ]
  },
  {
   "cell_type": "code",
   "execution_count": 121,
   "metadata": {},
   "outputs": [
    {
     "name": "stdout",
     "output_type": "stream",
     "text": [
      "0      h: 968.79 l: 946.85 o: 951.00 c: 962.58 vwap: 9.63 v: 107800\n",
      "1      h: 967.00 l: 952.15 o: 962.58 c: 953.09 vwap: 9.62 v: 100700\n",
      "2      h: 964.00 l: 950.11 o: 953.09 c: 953.50 vwap: 9.53 v: 146700\n",
      "3      h: 955.83 l: 950.10 o: 953.50 c: 953.01 vwap: 9.53 v: 156300\n",
      "4      h: 954.95 l: 949.90 o: 953.01 c: 952.11 vwap: 9.52 v: 144800\n",
      "                                   ...                             \n",
      "222    h: 962.94 l: 958.26 o: 962.94 c: 961.20 vwap: 9.60 v: 128100\n",
      "223    h: 961.71 l: 960.21 o: 961.20 c: 960.77 vwap: 9.61 v: 143400\n",
      "224    h: 961.90 l: 959.74 o: 960.77 c: 960.00 vwap: 9.61 v: 142000\n",
      "225    h: 960.84 l: 958.01 o: 960.00 c: 958.01 vwap: 9.60 v: 142700\n",
      "226    h: 959.10 l: 955.00 o: 958.01 c: 955.90 vwap: 9.57 v: 67800 \n",
      "Length: 227, dtype: object\n"
     ]
    }
   ],
   "source": [
    "#tick bars\n",
    "#TODO: what is a tick exactly, a price change?\n",
    "def tick_group(index):\n",
    "    return (int(index / 1000))\n",
    "# data = data.reset_index()\n",
    "data_tick_groups = data.groupby(tick_group)\n",
    "data_tick_bars = data_tick_groups.apply(compute_normal_bar)\n",
    "print(data_tick_bars)\n",
    "data = data.set_index('timestamp')"
   ]
  },
  {
   "cell_type": "code",
   "execution_count": null,
   "metadata": {},
   "outputs": [],
   "source": []
  }
 ],
 "metadata": {
  "kernelspec": {
   "display_name": "Python 3",
   "language": "python",
   "name": "python3"
  },
  "language_info": {
   "codemirror_mode": {
    "name": "ipython",
    "version": 3
   },
   "file_extension": ".py",
   "mimetype": "text/x-python",
   "name": "python",
   "nbconvert_exporter": "python",
   "pygments_lexer": "ipython3",
   "version": "3.8.0"
  }
 },
 "nbformat": 4,
 "nbformat_minor": 4
}
